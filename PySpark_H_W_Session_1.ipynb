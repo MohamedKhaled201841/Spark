{
  "nbformat": 4,
  "nbformat_minor": 0,
  "metadata": {
    "anaconda-cloud": {},
    "kernelspec": {
      "display_name": "Python 3",
      "language": "python",
      "name": "python3"
    },
    "language_info": {
      "codemirror_mode": {
        "name": "ipython",
        "version": 3
      },
      "file_extension": ".py",
      "mimetype": "text/x-python",
      "name": "python",
      "nbconvert_exporter": "python",
      "pygments_lexer": "ipython3",
      "version": "3.7.3"
    },
    "colab": {
      "name": "PySpark_H_W_Session_1.ipynb",
      "provenance": []
    }
  },
  "cells": [
    {
      "cell_type": "markdown",
      "metadata": {
        "id": "IK1nI-VcQEUw"
      },
      "source": [
        "# PySpark H.W Session 1\n",
        "\n"
      ]
    },
    {
      "cell_type": "markdown",
      "metadata": {
        "id": "KBrsJ9WgQEU0"
      },
      "source": [
        "Let's get some quick practice with your new Spark DataFrame skills, you will be asked some basic questions about some stock market data, in this case Walmart Stock from the years 2012-2017. This exercise will just ask a bunch of questions, unlike the future machine learning exercises, which will be a little looser and be in the form of \"Consulting Projects\", but more on that later!\n",
        "\n",
        "For now, just answer the questions and complete the tasks below."
      ]
    },
    {
      "cell_type": "markdown",
      "metadata": {
        "id": "klOLe4_bQEU3"
      },
      "source": [
        "#### Use the walmart_stock.csv file to Answer and complete the  tasks below!"
      ]
    },
    {
      "cell_type": "markdown",
      "metadata": {
        "id": "pBTm6mJjQEU4"
      },
      "source": [
        "#### Start a simple Spark Session"
      ]
    },
    {
      "cell_type": "code",
      "metadata": {
        "collapsed": true,
        "id": "AFIdTSZaQEU6"
      },
      "source": [
        "from pyspark.sql import SparkSession\n",
        "spark = (SparkSession\n",
        ".builder\n",
        ".appName(\"DataFrame\")\n",
        ".getOrCreate())"
      ],
      "execution_count": 6,
      "outputs": []
    },
    {
      "cell_type": "markdown",
      "metadata": {
        "id": "_SvK1u-xQEU7"
      },
      "source": [
        "#### Load the Walmart Stock CSV File, have Spark infer the data types."
      ]
    },
    {
      "cell_type": "code",
      "metadata": {
        "collapsed": true,
        "id": "PFufNumHQEU8"
      },
      "source": [
        "sampleDF = spark.read.option(\"samplingRatio\", 0.001).option(\"header\", True).csv(\"/content/walmart_stock.csv\")"
      ],
      "execution_count": 7,
      "outputs": []
    },
    {
      "cell_type": "markdown",
      "metadata": {
        "id": "EWyuYG3HQEU9"
      },
      "source": [
        "#### What are the column names?"
      ]
    },
    {
      "cell_type": "code",
      "metadata": {
        "id": "HqoXRFGuQEU-",
        "colab": {
          "base_uri": "https://localhost:8080/"
        },
        "outputId": "0daa4232-aef9-4060-a67b-6355bac8b807"
      },
      "source": [
        "sampleDF.columns"
      ],
      "execution_count": 10,
      "outputs": [
        {
          "output_type": "execute_result",
          "data": {
            "text/plain": [
              "['Date', 'Open', 'High', 'Low', 'Close', 'Volume', 'Adj Close']"
            ]
          },
          "metadata": {},
          "execution_count": 10
        }
      ]
    },
    {
      "cell_type": "markdown",
      "metadata": {
        "id": "IF87H3r1QEU_"
      },
      "source": [
        "#### What does the Schema look like?"
      ]
    },
    {
      "cell_type": "code",
      "metadata": {
        "id": "FaM8KQGTQEU_",
        "colab": {
          "base_uri": "https://localhost:8080/"
        },
        "outputId": "98f0ec9f-4f48-4736-d0d1-fd06e2819d58"
      },
      "source": [
        "sampleDF.printSchema()"
      ],
      "execution_count": 9,
      "outputs": [
        {
          "output_type": "stream",
          "name": "stdout",
          "text": [
            "root\n",
            " |-- Date: string (nullable = true)\n",
            " |-- Open: string (nullable = true)\n",
            " |-- High: string (nullable = true)\n",
            " |-- Low: string (nullable = true)\n",
            " |-- Close: string (nullable = true)\n",
            " |-- Volume: string (nullable = true)\n",
            " |-- Adj Close: string (nullable = true)\n",
            "\n"
          ]
        }
      ]
    },
    {
      "cell_type": "markdown",
      "metadata": {
        "id": "ixYkVStcQEVA"
      },
      "source": [
        "#### Print out the first 5 columns."
      ]
    },
    {
      "cell_type": "code",
      "metadata": {
        "id": "4hWNEBxlQEVA",
        "colab": {
          "base_uri": "https://localhost:8080/"
        },
        "outputId": "0a19801e-8ad0-4a9d-ac67-c6fe9cdbdb21"
      },
      "source": [
        "sampleDF.take(5)"
      ],
      "execution_count": 12,
      "outputs": [
        {
          "output_type": "execute_result",
          "data": {
            "text/plain": [
              "[Row(Date='2012-01-03', Open='59.970001', High='61.060001', Low='59.869999', Close='60.330002', Volume='12668800', Adj Close='52.619234999999996'),\n",
              " Row(Date='2012-01-04', Open='60.209998999999996', High='60.349998', Low='59.470001', Close='59.709998999999996', Volume='9593300', Adj Close='52.078475'),\n",
              " Row(Date='2012-01-05', Open='59.349998', High='59.619999', Low='58.369999', Close='59.419998', Volume='12768200', Adj Close='51.825539'),\n",
              " Row(Date='2012-01-06', Open='59.419998', High='59.450001', Low='58.869999', Close='59.0', Volume='8069400', Adj Close='51.45922'),\n",
              " Row(Date='2012-01-09', Open='59.029999', High='59.549999', Low='58.919998', Close='59.18', Volume='6679300', Adj Close='51.616215000000004')]"
            ]
          },
          "metadata": {},
          "execution_count": 12
        }
      ]
    },
    {
      "cell_type": "markdown",
      "metadata": {
        "id": "k5biK3B4QEVB"
      },
      "source": [
        "#### Use describe() to learn about the DataFrame."
      ]
    },
    {
      "cell_type": "code",
      "metadata": {
        "id": "GulzXGneQEVB",
        "colab": {
          "base_uri": "https://localhost:8080/"
        },
        "outputId": "ac0586f4-6dac-4cb6-fbf1-be058847e5d8"
      },
      "source": [
        "sampleDF.describe().show()"
      ],
      "execution_count": 14,
      "outputs": [
        {
          "output_type": "stream",
          "name": "stdout",
          "text": [
            "+-------+----------+------------------+-----------------+-----------------+-----------------+-----------------+-----------------+\n",
            "|summary|      Date|              Open|             High|              Low|            Close|           Volume|        Adj Close|\n",
            "+-------+----------+------------------+-----------------+-----------------+-----------------+-----------------+-----------------+\n",
            "|  count|      1258|              1258|             1258|             1258|             1258|             1258|             1258|\n",
            "|   mean|      null| 72.35785375357709|72.83938807631165| 71.9186009594594|72.38844998012726|8222093.481717011|67.23883848728146|\n",
            "| stddev|      null|  6.76809024470826|6.768186808159218|6.744075756255496|6.756859163732991|  4519780.8431556|6.722609449996857|\n",
            "|    min|2012-01-03|56.389998999999996|        57.060001|        56.299999|        56.419998|         10010500|        50.363689|\n",
            "|    max|2016-12-30|         90.800003|        90.970001|            89.25|        90.470001|          9994400|84.91421600000001|\n",
            "+-------+----------+------------------+-----------------+-----------------+-----------------+-----------------+-----------------+\n",
            "\n"
          ]
        }
      ]
    },
    {
      "cell_type": "markdown",
      "metadata": {
        "id": "p1nK57i1QEVC"
      },
      "source": [
        "## Bonus Question!\n",
        "#### There are too many decimal places for mean and stddev in the describe() dataframe. Format the numbers to just show up to two decimal places. Pay careful attention to the datatypes that .describe() returns, we didn't cover how to do this exact formatting, but we covered something very similar. [Check this link for a hint](http://spark.apache.org/docs/latest/api/python/pyspark.sql.html#pyspark.sql.Column.cast)\n",
        "\n",
        "If you get stuck on this, don't worry, just view the solutions."
      ]
    },
    {
      "cell_type": "code",
      "metadata": {
        "id": "ciAYhyY7QEVC",
        "outputId": "bdec4412-7898-46ac-df9a-5205859ad82a"
      },
      "source": [
        ""
      ],
      "execution_count": null,
      "outputs": [
        {
          "name": "stdout",
          "output_type": "stream",
          "text": [
            "root\n",
            " |-- summary: string (nullable = true)\n",
            " |-- Open: string (nullable = true)\n",
            " |-- High: string (nullable = true)\n",
            " |-- Low: string (nullable = true)\n",
            " |-- Close: string (nullable = true)\n",
            " |-- Volume: string (nullable = true)\n",
            " |-- Adj Close: string (nullable = true)\n",
            "\n"
          ]
        }
      ]
    },
    {
      "cell_type": "code",
      "metadata": {
        "collapsed": true,
        "id": "vuKIj4WPQEVD"
      },
      "source": [
        ""
      ],
      "execution_count": null,
      "outputs": []
    },
    {
      "cell_type": "code",
      "metadata": {
        "id": "y9QtiMvsQEVD",
        "outputId": "5e18ca18-6888-41e0-8e69-8e3aea746ee5"
      },
      "source": [
        ""
      ],
      "execution_count": null,
      "outputs": [
        {
          "name": "stdout",
          "output_type": "stream",
          "text": [
            "+-------+--------+--------+--------+--------+--------+\n",
            "|summary|    Open|    High|     Low|   Close|  Volume|\n",
            "+-------+--------+--------+--------+--------+--------+\n",
            "|  count|1,258.00|1,258.00|1,258.00|1,258.00|    1258|\n",
            "|   mean|   72.36|   72.84|   71.92|   72.39| 8222093|\n",
            "| stddev|    6.77|    6.77|    6.74|    6.76| 4519781|\n",
            "|    min|   56.39|   57.06|   56.30|   56.42| 2094900|\n",
            "|    max|   90.80|   90.97|   89.25|   90.47|80898100|\n",
            "+-------+--------+--------+--------+--------+--------+\n",
            "\n"
          ]
        }
      ]
    },
    {
      "cell_type": "markdown",
      "metadata": {
        "id": "9MwLgnCSQEVD"
      },
      "source": [
        "#### Create a new dataframe with a column called HV Ratio that is the ratio of the High Price versus volume of stock traded for a day."
      ]
    },
    {
      "cell_type": "code",
      "metadata": {
        "id": "OAN5HLkBHElO"
      },
      "source": [
        "from pyspark.sql.functions import *\n"
      ],
      "execution_count": 36,
      "outputs": []
    },
    {
      "cell_type": "code",
      "metadata": {
        "id": "HFs2j7NpP01t"
      },
      "source": [
        "df=sampleDF.withColumn(\"High\", col(\"High\").cast(\"float\").alias(\"High\"))\\\n",
        ".withColumn(\"Volume\", col(\"Volume\").cast(\"float\").alias(\"Volume\"))\\\n",
        ".withColumn(\"Close\", col(\"Close\").cast(\"float\").alias(\"Close\"))\n",
        "df1=df.withColumn('HV Ratio', (df[\"High\"] / df[\"Volume\"]))\n"
      ],
      "execution_count": 127,
      "outputs": []
    },
    {
      "cell_type": "code",
      "metadata": {
        "id": "zgjpPZkRQEVE",
        "colab": {
          "base_uri": "https://localhost:8080/"
        },
        "outputId": "7315d07a-bd0d-44ef-cf4f-65d5b23053c9"
      },
      "source": [
        "df1.select(\"HV Ratio\").show()"
      ],
      "execution_count": 126,
      "outputs": [
        {
          "output_type": "stream",
          "name": "stdout",
          "text": [
            "+--------------------+\n",
            "|            HV Ratio|\n",
            "+--------------------+\n",
            "|4.819714682786927E-6|\n",
            "|6.290848662516662E-6|\n",
            "| 4.66941298944916E-6|\n",
            "| 7.36733843444859E-6|\n",
            "|8.915604814435727E-6|\n",
            "|8.644477449144044E-6|\n",
            "|9.351828386844425E-6|\n",
            "| 8.29141562102703E-6|\n",
            "|7.712212051589609E-6|\n",
            "|7.071764777688419...|\n",
            "|1.015495462653464...|\n",
            "|  6.5763540967921E-6|\n",
            "| 5.90145296180676E-6|\n",
            "|8.547679390846264E-6|\n",
            "|8.420709512685392E-6|\n",
            "|1.041448335142357...|\n",
            "|8.316075435382035E-6|\n",
            "|9.721183804158345E-6|\n",
            "|8.029435987746889E-6|\n",
            "|6.307432228123159E-6|\n",
            "+--------------------+\n",
            "only showing top 20 rows\n",
            "\n"
          ]
        }
      ]
    },
    {
      "cell_type": "markdown",
      "metadata": {
        "id": "sfOdDUdCQEVE"
      },
      "source": [
        "#### What day had the Peak High in Price?"
      ]
    },
    {
      "cell_type": "code",
      "metadata": {
        "id": "FRi1idOrQEVE",
        "colab": {
          "base_uri": "https://localhost:8080/"
        },
        "outputId": "695eb42b-9a8d-4bef-f1be-c2aff84c288e"
      },
      "source": [
        "df.select(\"High\").rdd.max()[0]\n",
        "df.select(\"Date\").where(col(\"High\")==df.select(\"High\").rdd.max()[0]).show()"
      ],
      "execution_count": 123,
      "outputs": [
        {
          "output_type": "stream",
          "name": "stdout",
          "text": [
            "+----------+\n",
            "|      Date|\n",
            "+----------+\n",
            "|2015-01-13|\n",
            "+----------+\n",
            "\n"
          ]
        }
      ]
    },
    {
      "cell_type": "markdown",
      "metadata": {
        "id": "z_RIIXHnQEVE"
      },
      "source": [
        "#### What is the mean of the Close column?"
      ]
    },
    {
      "cell_type": "code",
      "metadata": {
        "id": "_W9kgKR7QEVF",
        "colab": {
          "base_uri": "https://localhost:8080/"
        },
        "outputId": "1adc3dd3-b4e5-4cd2-efcf-c1c562e2c55a"
      },
      "source": [
        "df.select(mean(\"Close\")).show()"
      ],
      "execution_count": 133,
      "outputs": [
        {
          "output_type": "stream",
          "name": "stdout",
          "text": [
            "+-----------------+\n",
            "|       avg(Close)|\n",
            "+-----------------+\n",
            "|72.38844997363553|\n",
            "+-----------------+\n",
            "\n"
          ]
        }
      ]
    },
    {
      "cell_type": "markdown",
      "metadata": {
        "id": "Z8V-r7I1QEVF"
      },
      "source": [
        "#### What is the max and min of the Volume column?"
      ]
    },
    {
      "cell_type": "code",
      "metadata": {
        "collapsed": true,
        "id": "z5mrVE6WQEVF",
        "colab": {
          "base_uri": "https://localhost:8080/"
        },
        "outputId": "4c2c9046-7f6f-446d-c323-87effeabdd9c"
      },
      "source": [
        "df.select(\"Volume\").rdd.max()[0]\n"
      ],
      "execution_count": 138,
      "outputs": [
        {
          "output_type": "execute_result",
          "data": {
            "text/plain": [
              "80898096.0"
            ]
          },
          "metadata": {},
          "execution_count": 138
        }
      ]
    },
    {
      "cell_type": "code",
      "metadata": {
        "id": "yAklGLjPQEVG",
        "colab": {
          "base_uri": "https://localhost:8080/"
        },
        "outputId": "643630b1-70b9-4fd6-f1d7-8ffcd9a56a10"
      },
      "source": [
        "df.select(\"Volume\").rdd.min()[0]"
      ],
      "execution_count": 139,
      "outputs": [
        {
          "output_type": "execute_result",
          "data": {
            "text/plain": [
              "2094900.0"
            ]
          },
          "metadata": {},
          "execution_count": 139
        }
      ]
    },
    {
      "cell_type": "markdown",
      "metadata": {
        "id": "VT4RVThzQEVG"
      },
      "source": [
        "#### How many days was the Close lower than 60 dollars?"
      ]
    },
    {
      "cell_type": "code",
      "metadata": {
        "id": "ukyn4th3QEVG",
        "colab": {
          "base_uri": "https://localhost:8080/"
        },
        "outputId": "2a59bcba-bf68-4f83-b807-b051faa0a08e"
      },
      "source": [
        "df.select(\"Date\").where(col(\"Close\")<60).count()"
      ],
      "execution_count": 147,
      "outputs": [
        {
          "output_type": "execute_result",
          "data": {
            "text/plain": [
              "81"
            ]
          },
          "metadata": {},
          "execution_count": 147
        }
      ]
    },
    {
      "cell_type": "markdown",
      "metadata": {
        "id": "7pqovtOeQEVG"
      },
      "source": [
        "#### What percentage of the time was the High greater than 80 dollars ?\n",
        "#### In other words, (Number of Days High>80)/(Total Days in the dataset)"
      ]
    },
    {
      "cell_type": "code",
      "metadata": {
        "colab": {
          "base_uri": "https://localhost:8080/"
        },
        "id": "Ry_hsEcfb8w4",
        "outputId": "05decc89-4520-459f-e6b8-15d3f09cbc24"
      },
      "source": [
        "df.select(\"Date\").where(col(\"High\")>80).count()/df.select(\"Date\").count()*100"
      ],
      "execution_count": 153,
      "outputs": [
        {
          "output_type": "execute_result",
          "data": {
            "text/plain": [
              "9.141494435612083"
            ]
          },
          "metadata": {},
          "execution_count": 153
        }
      ]
    },
    {
      "cell_type": "markdown",
      "metadata": {
        "id": "hhggc4nrQEVH"
      },
      "source": [
        "#### What is the Pearson correlation between High and Volume?\n",
        "#### [Hint](http://spark.apache.org/docs/latest/api/python/pyspark.sql.html#pyspark.sql.DataFrameStatFunctions.corr)"
      ]
    },
    {
      "cell_type": "code",
      "metadata": {
        "colab": {
          "base_uri": "https://localhost:8080/"
        },
        "id": "Dm4D80mPcY2g",
        "outputId": "99259a7c-1891-4666-ef70-259a69edfcf8"
      },
      "source": [
        "df.stat.corr(\"High\", \"Volume\")"
      ],
      "execution_count": 155,
      "outputs": [
        {
          "output_type": "execute_result",
          "data": {
            "text/plain": [
              "-0.3384326095027024"
            ]
          },
          "metadata": {},
          "execution_count": 155
        }
      ]
    },
    {
      "cell_type": "markdown",
      "metadata": {
        "id": "5cUkJpW8QEVJ"
      },
      "source": [
        "#### What is the max High per year?"
      ]
    },
    {
      "cell_type": "code",
      "metadata": {
        "id": "JX3A9WxbQEVK",
        "colab": {
          "base_uri": "https://localhost:8080/"
        },
        "outputId": "ac5f251a-21a4-4c62-8802-e654ece552f7"
      },
      "source": [
        "df_with_year = sampleDF.withColumn('year', year('Date')).drop('Date')\n",
        "\n",
        "(\n",
        "    df_with_year\n",
        "    .select('year', 'High')\n",
        "    .groupBy('year')\n",
        "    .agg(max('High'))\n",
        "    .show()\n",
        ")"
      ],
      "execution_count": 85,
      "outputs": [
        {
          "output_type": "stream",
          "name": "stdout",
          "text": [
            "+----+---------+\n",
            "|year|max(High)|\n",
            "+----+---------+\n",
            "|2012|77.599998|\n",
            "|2013|81.370003|\n",
            "|2014|88.089996|\n",
            "|2015|90.970001|\n",
            "|2016|75.190002|\n",
            "+----+---------+\n",
            "\n"
          ]
        }
      ]
    },
    {
      "cell_type": "markdown",
      "metadata": {
        "id": "Qzrj0hnQQEVK"
      },
      "source": [
        "#### What is the average Close for each Calendar Month?\n",
        "#### In other words, across all the years, what is the average Close price for Jan,Feb, Mar, etc... Your result will have a value for each of these months. "
      ]
    },
    {
      "cell_type": "code",
      "metadata": {
        "colab": {
          "base_uri": "https://localhost:8080/"
        },
        "id": "G6a53S4zdIm5",
        "outputId": "fcaa47c3-7ae9-48ff-8207-21fa40fd67b1"
      },
      "source": [
        " df_with_year = sampleDF.withColumn('month', month('Date')).drop('Date')\n",
        " \n",
        " df_with_year\\\n",
        "    .select('month', 'Close')\\\n",
        "    .groupBy('month')\\\n",
        "    .agg(mean('Close'))\\\n",
        "    .orderBy(col(\"month\"))\\\n",
        "    .show()\n",
        " "
      ],
      "execution_count": 169,
      "outputs": [
        {
          "output_type": "stream",
          "name": "stdout",
          "text": [
            "+-----+-----------------+\n",
            "|month|       avg(Close)|\n",
            "+-----+-----------------+\n",
            "|    1|71.44801958415842|\n",
            "|    2|  71.306804443299|\n",
            "|    3|71.77794377570092|\n",
            "|    4|72.97361900952382|\n",
            "|    5|72.30971688679247|\n",
            "|    6| 72.4953774245283|\n",
            "|    7|74.43971943925233|\n",
            "|    8|73.02981855454546|\n",
            "|    9|72.18411785294116|\n",
            "|   10|71.57854545454543|\n",
            "|   11| 72.1110893069307|\n",
            "|   12|72.84792478301885|\n",
            "+-----+-----------------+\n",
            "\n"
          ]
        }
      ]
    },
    {
      "cell_type": "code",
      "metadata": {
        "id": "dCRHSQiJQEVK",
        "outputId": "e8688d22-090b-4b31-9d5e-dbc64196b4ba"
      },
      "source": [
        ""
      ],
      "execution_count": null,
      "outputs": [
        {
          "name": "stdout",
          "output_type": "stream",
          "text": [
            "+-----+-----------------+\n",
            "|Month|       avg(Close)|\n",
            "+-----+-----------------+\n",
            "|    1|71.44801958415842|\n",
            "|    2|  71.306804443299|\n",
            "|    3|71.77794377570092|\n",
            "|    4|72.97361900952382|\n",
            "|    5|72.30971688679247|\n",
            "|    6| 72.4953774245283|\n",
            "|    7|74.43971943925233|\n",
            "|    8|73.02981855454546|\n",
            "|    9|72.18411785294116|\n",
            "|   10|71.57854545454543|\n",
            "|   11| 72.1110893069307|\n",
            "|   12|72.84792478301885|\n",
            "+-----+-----------------+\n",
            "\n"
          ]
        }
      ]
    }
  ]
}